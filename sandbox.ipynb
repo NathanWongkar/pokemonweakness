{
 "cells": [
  {
   "cell_type": "code",
   "execution_count": 1,
   "metadata": {},
   "outputs": [],
   "source": [
    "from flask import Flask, request, render_template\n",
    "import requests\n"
   ]
  },
  {
   "cell_type": "code",
   "execution_count": 12,
   "metadata": {},
   "outputs": [
    {
     "name": "stdout",
     "output_type": "stream",
     "text": [
      "[{'slot': 1, 'type': {'name': 'electric', 'url': 'https://pokeapi.co/api/v2/type/13/'}}]\n"
     ]
    }
   ],
   "source": [
    "pokemon_name = \"pikachu\"\n",
    "response = requests.get(f\"https://pokeapi.co/api/v2/pokemon/{pokemon_name}/\").json()\n",
    "\n",
    "types = response[\"types\"]\n",
    "print(types)"
   ]
  },
  {
   "cell_type": "code",
   "execution_count": 10,
   "metadata": {},
   "outputs": [
    {
     "name": "stdout",
     "output_type": "stream",
     "text": [
      "{'double_damage_from': [{'name': 'ground', 'url': 'https://pokeapi.co/api/v2/type/5/'}], 'double_damage_to': [{'name': 'flying', 'url': 'https://pokeapi.co/api/v2/type/3/'}, {'name': 'water', 'url': 'https://pokeapi.co/api/v2/type/11/'}], 'half_damage_from': [{'name': 'flying', 'url': 'https://pokeapi.co/api/v2/type/3/'}, {'name': 'steel', 'url': 'https://pokeapi.co/api/v2/type/9/'}, {'name': 'electric', 'url': 'https://pokeapi.co/api/v2/type/13/'}], 'half_damage_to': [{'name': 'grass', 'url': 'https://pokeapi.co/api/v2/type/12/'}, {'name': 'electric', 'url': 'https://pokeapi.co/api/v2/type/13/'}, {'name': 'dragon', 'url': 'https://pokeapi.co/api/v2/type/16/'}], 'no_damage_from': [], 'no_damage_to': [{'name': 'ground', 'url': 'https://pokeapi.co/api/v2/type/5/'}]}\n"
     ]
    }
   ],
   "source": [
    "immunities = []\n",
    "resistances = []\n",
    "weaknesses = []\n",
    "\n",
    "for type_data in types:\n",
    "    type_url = type_data[\"type\"][\"url\"]\n",
    "    type_response = requests.get(type_url).json()\n",
    "    damage_relations = type_response[\"damage_relations\"]\n",
    "    for array_name, type_list in [(\"no_damage_from\", immunities), (\"half_damage_from\", resistances), (\"double_damage_from\", weaknesses)]:\n",
    "        for weak_type in damage_relations[array_name]:\n",
    "            weak_type_response = requests.get(weak_type[\"url\"]).json()\n",
    "            type_list.append(weak_type_response[\"name\"])\n",
    "print(damage_relations)"
   ]
  },
  {
   "cell_type": "code",
   "execution_count": null,
   "metadata": {},
   "outputs": [],
   "source": []
  }
 ],
 "metadata": {
  "kernelspec": {
   "display_name": "venv",
   "language": "python",
   "name": "python3"
  },
  "language_info": {
   "codemirror_mode": {
    "name": "ipython",
    "version": 3
   },
   "file_extension": ".py",
   "mimetype": "text/x-python",
   "name": "python",
   "nbconvert_exporter": "python",
   "pygments_lexer": "ipython3",
   "version": "3.10.10"
  },
  "orig_nbformat": 4
 },
 "nbformat": 4,
 "nbformat_minor": 2
}
